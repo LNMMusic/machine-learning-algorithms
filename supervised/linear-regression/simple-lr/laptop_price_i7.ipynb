{
 "cells": [
  {
   "cell_type": "markdown",
   "metadata": {},
   "source": [
    "# Packages"
   ]
  },
  {
   "cell_type": "code",
   "execution_count": 70,
   "metadata": {},
   "outputs": [],
   "source": [
    "import pandas as pd\n",
    "import matplotlib.pyplot as plt"
   ]
  },
  {
   "cell_type": "markdown",
   "metadata": {},
   "source": [
    "---"
   ]
  },
  {
   "cell_type": "markdown",
   "metadata": {},
   "source": [
    "# Dataset"
   ]
  },
  {
   "cell_type": "markdown",
   "metadata": {},
   "source": [
    "### Data Source"
   ]
  },
  {
   "cell_type": "markdown",
   "metadata": {},
   "source": [
    "link: https://www.kaggle.com/ionaskel/laptop-prices"
   ]
  },
  {
   "cell_type": "code",
   "execution_count": 71,
   "metadata": {},
   "outputs": [
    {
     "data": {
      "text/html": [
       "<div>\n",
       "<style scoped>\n",
       "    .dataframe tbody tr th:only-of-type {\n",
       "        vertical-align: middle;\n",
       "    }\n",
       "\n",
       "    .dataframe tbody tr th {\n",
       "        vertical-align: top;\n",
       "    }\n",
       "\n",
       "    .dataframe thead th {\n",
       "        text-align: right;\n",
       "    }\n",
       "</style>\n",
       "<table border=\"1\" class=\"dataframe\">\n",
       "  <thead>\n",
       "    <tr style=\"text-align: right;\">\n",
       "      <th></th>\n",
       "      <th>laptop_ID</th>\n",
       "      <th>Company</th>\n",
       "      <th>Product</th>\n",
       "      <th>TypeName</th>\n",
       "      <th>Inches</th>\n",
       "      <th>ScreenResolution</th>\n",
       "      <th>Cpu</th>\n",
       "      <th>Ram</th>\n",
       "      <th>Memory</th>\n",
       "      <th>Gpu</th>\n",
       "      <th>OpSys</th>\n",
       "      <th>Weight</th>\n",
       "      <th>Price_euros</th>\n",
       "    </tr>\n",
       "  </thead>\n",
       "  <tbody>\n",
       "    <tr>\n",
       "      <th>0</th>\n",
       "      <td>1</td>\n",
       "      <td>Apple</td>\n",
       "      <td>MacBook Pro</td>\n",
       "      <td>Ultrabook</td>\n",
       "      <td>13.3</td>\n",
       "      <td>IPS Panel Retina Display 2560x1600</td>\n",
       "      <td>Intel Core i5 2.3GHz</td>\n",
       "      <td>8GB</td>\n",
       "      <td>128GB SSD</td>\n",
       "      <td>Intel Iris Plus Graphics 640</td>\n",
       "      <td>macOS</td>\n",
       "      <td>1.37kg</td>\n",
       "      <td>1339.69</td>\n",
       "    </tr>\n",
       "    <tr>\n",
       "      <th>1</th>\n",
       "      <td>2</td>\n",
       "      <td>Apple</td>\n",
       "      <td>Macbook Air</td>\n",
       "      <td>Ultrabook</td>\n",
       "      <td>13.3</td>\n",
       "      <td>1440x900</td>\n",
       "      <td>Intel Core i5 1.8GHz</td>\n",
       "      <td>8GB</td>\n",
       "      <td>128GB Flash Storage</td>\n",
       "      <td>Intel HD Graphics 6000</td>\n",
       "      <td>macOS</td>\n",
       "      <td>1.34kg</td>\n",
       "      <td>898.94</td>\n",
       "    </tr>\n",
       "    <tr>\n",
       "      <th>2</th>\n",
       "      <td>3</td>\n",
       "      <td>HP</td>\n",
       "      <td>250 G6</td>\n",
       "      <td>Notebook</td>\n",
       "      <td>15.6</td>\n",
       "      <td>Full HD 1920x1080</td>\n",
       "      <td>Intel Core i5 7200U 2.5GHz</td>\n",
       "      <td>8GB</td>\n",
       "      <td>256GB SSD</td>\n",
       "      <td>Intel HD Graphics 620</td>\n",
       "      <td>No OS</td>\n",
       "      <td>1.86kg</td>\n",
       "      <td>575.00</td>\n",
       "    </tr>\n",
       "    <tr>\n",
       "      <th>3</th>\n",
       "      <td>4</td>\n",
       "      <td>Apple</td>\n",
       "      <td>MacBook Pro</td>\n",
       "      <td>Ultrabook</td>\n",
       "      <td>15.4</td>\n",
       "      <td>IPS Panel Retina Display 2880x1800</td>\n",
       "      <td>Intel Core i7 2.7GHz</td>\n",
       "      <td>16GB</td>\n",
       "      <td>512GB SSD</td>\n",
       "      <td>AMD Radeon Pro 455</td>\n",
       "      <td>macOS</td>\n",
       "      <td>1.83kg</td>\n",
       "      <td>2537.45</td>\n",
       "    </tr>\n",
       "    <tr>\n",
       "      <th>4</th>\n",
       "      <td>5</td>\n",
       "      <td>Apple</td>\n",
       "      <td>MacBook Pro</td>\n",
       "      <td>Ultrabook</td>\n",
       "      <td>13.3</td>\n",
       "      <td>IPS Panel Retina Display 2560x1600</td>\n",
       "      <td>Intel Core i5 3.1GHz</td>\n",
       "      <td>8GB</td>\n",
       "      <td>256GB SSD</td>\n",
       "      <td>Intel Iris Plus Graphics 650</td>\n",
       "      <td>macOS</td>\n",
       "      <td>1.37kg</td>\n",
       "      <td>1803.60</td>\n",
       "    </tr>\n",
       "  </tbody>\n",
       "</table>\n",
       "</div>"
      ],
      "text/plain": [
       "   laptop_ID Company      Product   TypeName  Inches  \\\n",
       "0          1   Apple  MacBook Pro  Ultrabook    13.3   \n",
       "1          2   Apple  Macbook Air  Ultrabook    13.3   \n",
       "2          3      HP       250 G6   Notebook    15.6   \n",
       "3          4   Apple  MacBook Pro  Ultrabook    15.4   \n",
       "4          5   Apple  MacBook Pro  Ultrabook    13.3   \n",
       "\n",
       "                     ScreenResolution                         Cpu   Ram  \\\n",
       "0  IPS Panel Retina Display 2560x1600        Intel Core i5 2.3GHz   8GB   \n",
       "1                            1440x900        Intel Core i5 1.8GHz   8GB   \n",
       "2                   Full HD 1920x1080  Intel Core i5 7200U 2.5GHz   8GB   \n",
       "3  IPS Panel Retina Display 2880x1800        Intel Core i7 2.7GHz  16GB   \n",
       "4  IPS Panel Retina Display 2560x1600        Intel Core i5 3.1GHz   8GB   \n",
       "\n",
       "                Memory                           Gpu  OpSys  Weight  \\\n",
       "0            128GB SSD  Intel Iris Plus Graphics 640  macOS  1.37kg   \n",
       "1  128GB Flash Storage        Intel HD Graphics 6000  macOS  1.34kg   \n",
       "2            256GB SSD         Intel HD Graphics 620  No OS  1.86kg   \n",
       "3            512GB SSD            AMD Radeon Pro 455  macOS  1.83kg   \n",
       "4            256GB SSD  Intel Iris Plus Graphics 650  macOS  1.37kg   \n",
       "\n",
       "   Price_euros  \n",
       "0      1339.69  \n",
       "1       898.94  \n",
       "2       575.00  \n",
       "3      2537.45  \n",
       "4      1803.60  "
      ]
     },
     "execution_count": 71,
     "metadata": {},
     "output_type": "execute_result"
    }
   ],
   "source": [
    "# read csv file\n",
    "df = pd.read_csv('laptop_price.csv', delimiter=',', encoding='ISO-8859-1')\n",
    "df.head()"
   ]
  },
  {
   "cell_type": "code",
   "execution_count": 72,
   "metadata": {},
   "outputs": [
    {
     "data": {
      "text/html": [
       "<div>\n",
       "<style scoped>\n",
       "    .dataframe tbody tr th:only-of-type {\n",
       "        vertical-align: middle;\n",
       "    }\n",
       "\n",
       "    .dataframe tbody tr th {\n",
       "        vertical-align: top;\n",
       "    }\n",
       "\n",
       "    .dataframe thead th {\n",
       "        text-align: right;\n",
       "    }\n",
       "</style>\n",
       "<table border=\"1\" class=\"dataframe\">\n",
       "  <thead>\n",
       "    <tr style=\"text-align: right;\">\n",
       "      <th></th>\n",
       "      <th>laptop_ID</th>\n",
       "      <th>Company</th>\n",
       "      <th>Product</th>\n",
       "      <th>TypeName</th>\n",
       "      <th>Inches</th>\n",
       "      <th>ScreenResolution</th>\n",
       "      <th>Cpu</th>\n",
       "      <th>Ram</th>\n",
       "      <th>Memory</th>\n",
       "      <th>Gpu</th>\n",
       "      <th>OpSys</th>\n",
       "      <th>Weight</th>\n",
       "      <th>Price_euros</th>\n",
       "    </tr>\n",
       "  </thead>\n",
       "  <tbody>\n",
       "    <tr>\n",
       "      <th>884</th>\n",
       "      <td>895</td>\n",
       "      <td>Dell</td>\n",
       "      <td>Inspiron 3552</td>\n",
       "      <td>Notebook</td>\n",
       "      <td>15.6</td>\n",
       "      <td>1366x768</td>\n",
       "      <td>Intel Pentium Quad Core N3710 1.6GHz</td>\n",
       "      <td>4GB</td>\n",
       "      <td>500GB HDD</td>\n",
       "      <td>Intel HD Graphics</td>\n",
       "      <td>Windows 10</td>\n",
       "      <td>2.2kg</td>\n",
       "      <td>369.00</td>\n",
       "    </tr>\n",
       "    <tr>\n",
       "      <th>454</th>\n",
       "      <td>461</td>\n",
       "      <td>Dell</td>\n",
       "      <td>Inspiron 5570</td>\n",
       "      <td>Notebook</td>\n",
       "      <td>15.6</td>\n",
       "      <td>Full HD 1920x1080</td>\n",
       "      <td>Intel Core i7 8550U 1.8GHz</td>\n",
       "      <td>8GB</td>\n",
       "      <td>128GB SSD +  1TB HDD</td>\n",
       "      <td>AMD Radeon 530</td>\n",
       "      <td>Windows 10</td>\n",
       "      <td>2.36kg</td>\n",
       "      <td>979.00</td>\n",
       "    </tr>\n",
       "    <tr>\n",
       "      <th>1275</th>\n",
       "      <td>1293</td>\n",
       "      <td>Asus</td>\n",
       "      <td>ZenBook UX305CA-UBM1</td>\n",
       "      <td>Ultrabook</td>\n",
       "      <td>13.3</td>\n",
       "      <td>IPS Panel Full HD 1920x1080</td>\n",
       "      <td>Intel Core M 6Y30 0.9GHz</td>\n",
       "      <td>8GB</td>\n",
       "      <td>512GB SSD</td>\n",
       "      <td>Intel HD Graphics 515</td>\n",
       "      <td>Windows 10</td>\n",
       "      <td>1.2kg</td>\n",
       "      <td>729.00</td>\n",
       "    </tr>\n",
       "    <tr>\n",
       "      <th>113</th>\n",
       "      <td>116</td>\n",
       "      <td>HP</td>\n",
       "      <td>Probook 440</td>\n",
       "      <td>Notebook</td>\n",
       "      <td>14.0</td>\n",
       "      <td>IPS Panel 1366x768</td>\n",
       "      <td>Intel Core i5 8250U 1.6GHz</td>\n",
       "      <td>4GB</td>\n",
       "      <td>500GB HDD</td>\n",
       "      <td>Intel UHD Graphics 620</td>\n",
       "      <td>Windows 10</td>\n",
       "      <td>1.63kg</td>\n",
       "      <td>722.00</td>\n",
       "    </tr>\n",
       "    <tr>\n",
       "      <th>448</th>\n",
       "      <td>455</td>\n",
       "      <td>MSI</td>\n",
       "      <td>GV62 7RD-1686NL</td>\n",
       "      <td>Gaming</td>\n",
       "      <td>15.6</td>\n",
       "      <td>Full HD 1920x1080</td>\n",
       "      <td>Intel Core i5 7300HQ 2.5GHz</td>\n",
       "      <td>8GB</td>\n",
       "      <td>256GB SSD</td>\n",
       "      <td>Nvidia GeForce GTX 1050</td>\n",
       "      <td>Windows 10</td>\n",
       "      <td>2.2kg</td>\n",
       "      <td>1027.74</td>\n",
       "    </tr>\n",
       "    <tr>\n",
       "      <th>646</th>\n",
       "      <td>654</td>\n",
       "      <td>Acer</td>\n",
       "      <td>Swift 3</td>\n",
       "      <td>Ultrabook</td>\n",
       "      <td>14.0</td>\n",
       "      <td>IPS Panel Full HD 1920x1080</td>\n",
       "      <td>Intel Core i5 7200U 2.5GHz</td>\n",
       "      <td>8GB</td>\n",
       "      <td>256GB SSD</td>\n",
       "      <td>Intel Graphics 620</td>\n",
       "      <td>Windows 10</td>\n",
       "      <td>1.8kg</td>\n",
       "      <td>919.00</td>\n",
       "    </tr>\n",
       "    <tr>\n",
       "      <th>701</th>\n",
       "      <td>709</td>\n",
       "      <td>Lenovo</td>\n",
       "      <td>IdeaPad 320-15AST</td>\n",
       "      <td>Notebook</td>\n",
       "      <td>15.6</td>\n",
       "      <td>Full HD 1920x1080</td>\n",
       "      <td>AMD A9-Series 9420 2.9GHz</td>\n",
       "      <td>4GB</td>\n",
       "      <td>256GB SSD</td>\n",
       "      <td>AMD Radeon 530</td>\n",
       "      <td>Windows 10</td>\n",
       "      <td>2.2kg</td>\n",
       "      <td>399.00</td>\n",
       "    </tr>\n",
       "    <tr>\n",
       "      <th>776</th>\n",
       "      <td>785</td>\n",
       "      <td>Lenovo</td>\n",
       "      <td>Thinkpad P50</td>\n",
       "      <td>Notebook</td>\n",
       "      <td>15.6</td>\n",
       "      <td>4K Ultra HD 3840x2160</td>\n",
       "      <td>Intel Core i7 6820HQ 2.7GHz</td>\n",
       "      <td>16GB</td>\n",
       "      <td>512GB SSD</td>\n",
       "      <td>Nvidia Quadro M2000M</td>\n",
       "      <td>Windows 7</td>\n",
       "      <td>2.5kg</td>\n",
       "      <td>2370.00</td>\n",
       "    </tr>\n",
       "    <tr>\n",
       "      <th>1079</th>\n",
       "      <td>1094</td>\n",
       "      <td>HP</td>\n",
       "      <td>Probook 650</td>\n",
       "      <td>Notebook</td>\n",
       "      <td>15.6</td>\n",
       "      <td>Full HD 1920x1080</td>\n",
       "      <td>Intel Core i5 6200U 2.3GHz</td>\n",
       "      <td>4GB</td>\n",
       "      <td>500GB HDD</td>\n",
       "      <td>Intel HD Graphics 520</td>\n",
       "      <td>Windows 7</td>\n",
       "      <td>2.31kg</td>\n",
       "      <td>940.00</td>\n",
       "    </tr>\n",
       "    <tr>\n",
       "      <th>750</th>\n",
       "      <td>759</td>\n",
       "      <td>Lenovo</td>\n",
       "      <td>N23 (N3060/4GB/128GB/W10)</td>\n",
       "      <td>Netbook</td>\n",
       "      <td>11.6</td>\n",
       "      <td>Touchscreen 1366x768</td>\n",
       "      <td>Intel Celeron Dual Core N3060 1.6GHz</td>\n",
       "      <td>4GB</td>\n",
       "      <td>128GB SSD</td>\n",
       "      <td>Intel HD Graphics 400</td>\n",
       "      <td>Windows 10</td>\n",
       "      <td>1.4kg</td>\n",
       "      <td>475.00</td>\n",
       "    </tr>\n",
       "  </tbody>\n",
       "</table>\n",
       "</div>"
      ],
      "text/plain": [
       "      laptop_ID Company                    Product   TypeName  Inches  \\\n",
       "884         895    Dell              Inspiron 3552   Notebook    15.6   \n",
       "454         461    Dell              Inspiron 5570   Notebook    15.6   \n",
       "1275       1293    Asus       ZenBook UX305CA-UBM1  Ultrabook    13.3   \n",
       "113         116      HP                Probook 440   Notebook    14.0   \n",
       "448         455     MSI            GV62 7RD-1686NL     Gaming    15.6   \n",
       "646         654    Acer                    Swift 3  Ultrabook    14.0   \n",
       "701         709  Lenovo          IdeaPad 320-15AST   Notebook    15.6   \n",
       "776         785  Lenovo               Thinkpad P50   Notebook    15.6   \n",
       "1079       1094      HP                Probook 650   Notebook    15.6   \n",
       "750         759  Lenovo  N23 (N3060/4GB/128GB/W10)    Netbook    11.6   \n",
       "\n",
       "                 ScreenResolution                                   Cpu   Ram  \\\n",
       "884                      1366x768  Intel Pentium Quad Core N3710 1.6GHz   4GB   \n",
       "454             Full HD 1920x1080            Intel Core i7 8550U 1.8GHz   8GB   \n",
       "1275  IPS Panel Full HD 1920x1080              Intel Core M 6Y30 0.9GHz   8GB   \n",
       "113            IPS Panel 1366x768            Intel Core i5 8250U 1.6GHz   4GB   \n",
       "448             Full HD 1920x1080           Intel Core i5 7300HQ 2.5GHz   8GB   \n",
       "646   IPS Panel Full HD 1920x1080            Intel Core i5 7200U 2.5GHz   8GB   \n",
       "701             Full HD 1920x1080             AMD A9-Series 9420 2.9GHz   4GB   \n",
       "776         4K Ultra HD 3840x2160           Intel Core i7 6820HQ 2.7GHz  16GB   \n",
       "1079            Full HD 1920x1080            Intel Core i5 6200U 2.3GHz   4GB   \n",
       "750          Touchscreen 1366x768  Intel Celeron Dual Core N3060 1.6GHz   4GB   \n",
       "\n",
       "                    Memory                      Gpu       OpSys  Weight  \\\n",
       "884              500GB HDD        Intel HD Graphics  Windows 10   2.2kg   \n",
       "454   128GB SSD +  1TB HDD           AMD Radeon 530  Windows 10  2.36kg   \n",
       "1275             512GB SSD    Intel HD Graphics 515  Windows 10   1.2kg   \n",
       "113              500GB HDD   Intel UHD Graphics 620  Windows 10  1.63kg   \n",
       "448              256GB SSD  Nvidia GeForce GTX 1050  Windows 10   2.2kg   \n",
       "646              256GB SSD       Intel Graphics 620  Windows 10   1.8kg   \n",
       "701              256GB SSD           AMD Radeon 530  Windows 10   2.2kg   \n",
       "776              512GB SSD     Nvidia Quadro M2000M   Windows 7   2.5kg   \n",
       "1079             500GB HDD    Intel HD Graphics 520   Windows 7  2.31kg   \n",
       "750              128GB SSD    Intel HD Graphics 400  Windows 10   1.4kg   \n",
       "\n",
       "      Price_euros  \n",
       "884        369.00  \n",
       "454        979.00  \n",
       "1275       729.00  \n",
       "113        722.00  \n",
       "448       1027.74  \n",
       "646        919.00  \n",
       "701        399.00  \n",
       "776       2370.00  \n",
       "1079       940.00  \n",
       "750        475.00  "
      ]
     },
     "execution_count": 72,
     "metadata": {},
     "output_type": "execute_result"
    }
   ],
   "source": [
    "df.sample(10)"
   ]
  },
  {
   "cell_type": "markdown",
   "metadata": {},
   "source": [
    "### Pre-Procesing"
   ]
  },
  {
   "cell_type": "markdown",
   "metadata": {},
   "source": [
    "**Selection: CPU Intel Core i7**"
   ]
  },
  {
   "cell_type": "code",
   "execution_count": 73,
   "metadata": {},
   "outputs": [],
   "source": [
    "# select columns but \n",
    "cols = {\n",
    "    'laptop_ID': 'id',\n",
    "    'Product': 'product',\n",
    "    'Inches': 'inches',\n",
    "    'ScreenResolution': 'screen_resolution',\n",
    "    'Cpu': 'cpu',\n",
    "    'Ram': 'ram',\n",
    "    'Weight': 'weight',\n",
    "    'Price_euros': 'price',\n",
    "}\n",
    "df = df[list(cols.keys())]\n",
    "\n",
    "# rename columns\n",
    "df = df.rename(columns=cols)\n",
    "\n",
    "# split cpu column into cpu_model and cpu_speed\n",
    "df['cpu_model'] = df['cpu'].apply(lambda x: x.split()[:-1])\n",
    "df['cpu_speed'] = df['cpu'].apply(lambda x: x.split()[-1])\n",
    "df = df.drop(columns=['cpu'])"
   ]
  },
  {
   "cell_type": "code",
   "execution_count": 74,
   "metadata": {},
   "outputs": [],
   "source": [
    "# filter rows with cpu_model == 'Intel' + 'Core'\n",
    "df = df[df['cpu_model'].apply(lambda x: x[0] == 'Intel' and x[1] == 'Core' and x[2] == 'i7')]\n",
    "# filter no cpu_version\n",
    "df = df[df['cpu_model'].apply(lambda x: len(x) > 3)]"
   ]
  },
  {
   "cell_type": "code",
   "execution_count": 75,
   "metadata": {},
   "outputs": [],
   "source": [
    "# add cpu_version column\n",
    "df['cpu_version'] = df['cpu_model'].apply(lambda x: x[-1])"
   ]
  },
  {
   "cell_type": "markdown",
   "metadata": {},
   "source": [
    "**Cleaning**"
   ]
  },
  {
   "cell_type": "code",
   "execution_count": 76,
   "metadata": {},
   "outputs": [],
   "source": [
    "# filter rows with non-numerical cpu_version\n",
    "df = df[df['cpu_version'].apply(lambda x: x[:4].isdigit())]"
   ]
  },
  {
   "cell_type": "markdown",
   "metadata": {},
   "source": [
    "**Serialization**"
   ]
  },
  {
   "cell_type": "code",
   "execution_count": 77,
   "metadata": {},
   "outputs": [],
   "source": [
    "# serialize: screen_resolution\n",
    "df['screen_resolution'] = df['screen_resolution'].apply(lambda x: x.split()[-1].split('x'))\n",
    "df['screen_resolution'] = df['screen_resolution'].apply(lambda x: int(x[0]) * int(x[1]))\n",
    "\n",
    "# serialize: cpu_speed\n",
    "df['cpu_speed'] = df['cpu_speed'].apply(lambda x: x[:-3]).astype(float)\n",
    "\n",
    "# serialize: cpu_version\n",
    "df['cpu_version'] = df['cpu_version'].apply(lambda x: x[:4]).astype(int)\n",
    "\n",
    "# serialize: ram\n",
    "df['ram'] = df['ram'].apply(lambda x: x[:-2]).astype(int)\n",
    "\n",
    "# serialize: weight\n",
    "df['weight'] = df['weight'].apply(lambda x: x[:-2]).astype(float)"
   ]
  },
  {
   "cell_type": "markdown",
   "metadata": {},
   "source": [
    "**Normalization**"
   ]
  },
  {
   "cell_type": "code",
   "execution_count": 78,
   "metadata": {},
   "outputs": [],
   "source": [
    "# min-max normalization allows to scale a dataset to a range between 0 and 1\n",
    "def min_max_normalize(min:float, max:float, value:float) -> float:\n",
    "    return (value - min) / (max - min)\n",
    "\n",
    "def normalize(df, column):\n",
    "    min = df[column].min()\n",
    "    max = df[column].max()\n",
    "    df[column] = df[column].apply(lambda x: min_max_normalize(min, max, x))\n",
    "    return df\n",
    "\n",
    "# Normalize data\n",
    "df = normalize(df, 'inches')\n",
    "df = normalize(df, 'screen_resolution')\n",
    "df = normalize(df, 'cpu_version')\n",
    "df = normalize(df, 'cpu_speed')\n",
    "df = normalize(df, 'ram')\n",
    "df = normalize(df, 'weight')"
   ]
  },
  {
   "cell_type": "markdown",
   "metadata": {},
   "source": [
    "### Calculations"
   ]
  },
  {
   "cell_type": "code",
   "execution_count": 79,
   "metadata": {},
   "outputs": [],
   "source": [
    "import math\n",
    "\n",
    "def technical_value(inches:float, screen_resolution:float, cpu_version:float, cpu_speed:float, ram:float, weight:float) -> float:\n",
    "    positive = inches * 0.2 + screen_resolution * 0.4 + cpu_version * 0.5 + cpu_speed * 0.9 + ram * 0.8\n",
    "    negative = weight * 0.2\n",
    "    return positive - negative\n",
    "\n",
    "df['technical_value'] = df.apply(lambda x: technical_value(x['inches'], x['screen_resolution'], x['cpu_version'], x['cpu_speed'], x['ram'], x['weight']), axis=1)"
   ]
  },
  {
   "cell_type": "markdown",
   "metadata": {},
   "source": [
    "### Stats"
   ]
  },
  {
   "cell_type": "code",
   "execution_count": 80,
   "metadata": {},
   "outputs": [
    {
     "name": "stdout",
     "output_type": "stream",
     "text": [
      "    id                                  product    inches  screen_resolution  \\\n",
      "8    9                          ZenBook UX430UN  0.254237           0.141403   \n",
      "16  17                            Inspiron 3567  0.525424           0.141403   \n",
      "24  25  15-BS101nv (i7-8550U/8GB/256GB/FHD/W10)  0.525424           0.141403   \n",
      "28  29                            Latitude 5590  0.525424           0.141403   \n",
      "33  34                                   XPS 13  0.135593           0.650201   \n",
      "\n",
      "         ram    weight   price                 cpu_model  cpu_speed  \\\n",
      "8   0.200000  0.125964  1495.0  [Intel, Core, i7, 8550U]   0.000000   \n",
      "16  0.066667  0.357326   745.0  [Intel, Core, i7, 7500U]   0.818182   \n",
      "24  0.066667  0.282776   659.0  [Intel, Core, i7, 8550U]   0.000000   \n",
      "28  0.066667  0.275064  1298.0  [Intel, Core, i7, 8650U]   0.090909   \n",
      "33  0.200000  0.100257  1869.0  [Intel, Core, i7, 8550U]   0.000000   \n",
      "\n",
      "    cpu_version  technical_value  \n",
      "8      0.953488         0.718960  \n",
      "16     0.465116         1.112436  \n",
      "24     0.953488         0.635168  \n",
      "28     1.000000         0.741785  \n",
      "33     0.953488         0.903892   \n",
      "\n",
      "(518, 11) \n",
      "\n",
      "id                     int64\n",
      "product               object\n",
      "inches               float64\n",
      "screen_resolution    float64\n",
      "ram                  float64\n",
      "weight               float64\n",
      "price                float64\n",
      "cpu_model             object\n",
      "cpu_speed            float64\n",
      "cpu_version          float64\n",
      "technical_value      float64\n",
      "dtype: object\n"
     ]
    }
   ],
   "source": [
    "# stats\n",
    "print(df.head(), '\\n')\n",
    "print(df.shape, '\\n')\n",
    "print(df.dtypes)"
   ]
  },
  {
   "cell_type": "markdown",
   "metadata": {},
   "source": [
    "### Analysis"
   ]
  },
  {
   "cell_type": "code",
   "execution_count": 81,
   "metadata": {},
   "outputs": [
    {
     "data": {
      "image/png": "[encoded data removed]",
      "text/plain": [
       "<Figure size 640x480 with 1 Axes>"
      ]
     },
     "metadata": {},
     "output_type": "display_data"
    }
   ],
   "source": [
    "# graph weight (x) vs price (y)\n",
    "plt.scatter(df['technical_value'], df['price'])\n",
    "plt.xlabel('technical_value')\n",
    "plt.ylabel('price')\n",
    "plt.show()\n",
    "plt.close()"
   ]
  },
  {
   "cell_type": "markdown",
   "metadata": {},
   "source": [
    "---"
   ]
  },
  {
   "cell_type": "markdown",
   "metadata": {},
   "source": [
    "# Training"
   ]
  },
  {
   "cell_type": "markdown",
   "metadata": {},
   "source": [
    "**Dataset**"
   ]
  },
  {
   "cell_type": "code",
   "execution_count": 82,
   "metadata": {},
   "outputs": [],
   "source": [
    "# split dataset into X and y\n",
    "X = df[['technical_value']]\n",
    "y = df['price']\n",
    "\n",
    "# select 80% of the data for training and 20% for testing\n",
    "from sklearn.model_selection import train_test_split\n",
    "X_train, X_test, y_train, y_test = train_test_split(X, y, train_size=.8)"
   ]
  },
  {
   "cell_type": "markdown",
   "metadata": {},
   "source": [
    "**Model**"
   ]
  },
  {
   "cell_type": "code",
   "execution_count": 83,
   "metadata": {},
   "outputs": [],
   "source": [
    "# Linear Regression Model\n",
    "from sklearn.linear_model import LinearRegression\n",
    "\n",
    "model = LinearRegression()"
   ]
  },
  {
   "cell_type": "code",
   "execution_count": 84,
   "metadata": {},
   "outputs": [
    {
     "data": {
      "text/plain": [
       "0.08731275339650124"
      ]
     },
     "execution_count": 84,
     "metadata": {},
     "output_type": "execute_result"
    }
   ],
   "source": [
    "# train\n",
    "model.fit(X_train, y_train)\n",
    "\n",
    "# score\n",
    "model.score(X_test, y_test)"
   ]
  },
  {
   "cell_type": "code",
   "execution_count": 85,
   "metadata": {},
   "outputs": [
    {
     "data": {
      "image/png": "[encoded data removed]",
      "text/plain": [
       "<Figure size 640x480 with 1 Axes>"
      ]
     },
     "metadata": {},
     "output_type": "display_data"
    }
   ],
   "source": [
    "# visualize the fit line over the data\n",
    "plt.scatter(X, y)\n",
    "plt.plot(X, model.predict(X), color='red')\n",
    "plt.xlabel('technical_value')\n",
    "plt.ylabel('price')\n",
    "plt.show()\n",
    "plt.close()"
   ]
  },
  {
   "cell_type": "code",
   "execution_count": 86,
   "metadata": {},
   "outputs": [
    {
     "data": {
      "text/plain": [
       "321431.7558401842"
      ]
     },
     "execution_count": 86,
     "metadata": {},
     "output_type": "execute_result"
    }
   ],
   "source": [
    "# check the MSE\n",
    "from sklearn.metrics import mean_squared_error\n",
    "mean_squared_error(y_test, model.predict(X_test))"
   ]
  },
  {
   "cell_type": "code",
   "execution_count": 87,
   "metadata": {},
   "outputs": [
    {
     "data": {
      "text/plain": [
       "566.9495178939517"
      ]
     },
     "execution_count": 87,
     "metadata": {},
     "output_type": "execute_result"
    }
   ],
   "source": [
    "# check the RMSE\n",
    "math.sqrt(mean_squared_error(y_test, model.predict(X_test)))"
   ]
  }
 ],
 "metadata": {
  "kernelspec": {
   "display_name": "Python 3",
   "language": "python",
   "name": "python3"
  },
  "language_info": {
   "codemirror_mode": {
    "name": "ipython",
    "version": 3
   },
   "file_extension": ".py",
   "mimetype": "text/x-python",
   "name": "python",
   "nbconvert_exporter": "python",
   "pygments_lexer": "ipython3",
   "version": "3.10.8"
  }
 },
 "nbformat": 4,
 "nbformat_minor": 2
}
